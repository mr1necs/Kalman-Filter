{
 "cells": [
  {
   "cell_type": "code",
   "execution_count": 7,
   "metadata": {},
   "outputs": [],
   "source": [
    "import numpy as np\n",
    "import matplotlib.pyplot as plt\n",
    "import pandas as pd"
   ]
  },
  {
   "cell_type": "code",
   "execution_count": 8,
   "metadata": {},
   "outputs": [],
   "source": [
    "dt = 1.                     #time step 1 second\n",
    "\n",
    "Function = np.array([\n",
    "    [  1, dt,  0,  0],   # X  = (1 * X) + (t * (dX / dt)) + (0 * Y) + (0 * (dY / dt))\n",
    "    [  0,  1,  0,  0],   # Ux = (0 * X) + (1 * (dX / dt)) + (0 * Y) + (0 * (dY / dt))\n",
    "    [  0,  0,  1, dt],   # Y  = (0 * X) + (0 * (dX / dt)) + (1 * Y) + (t * (dY / dt))\n",
    "    [  0,  0,  0,  1]    # Uy = (0 * X) + (0 * (dX / dt)) + (0 * Y) + (1 * (dY / dt))\n",
    "])"
   ]
  },
  {
   "cell_type": "code",
   "execution_count": 9,
   "metadata": {},
   "outputs": [],
   "source": [
    "# Here we assume the noise in x and y are independent, so the covariances\n",
    "# between any x and y variable should be zero\n",
    "\n",
    "Q_k = np.array([\n",
    "    [0    , 0.001, 0    , 0    ],\n",
    "    [0.001, 0.001, 0    , 0    ], \n",
    "    [0    , 0    , 0    , 0.001], \n",
    "    [0    , 0    , 0.001, 0.001] \n",
    "])"
   ]
  },
  {
   "cell_type": "code",
   "execution_count": 10,
   "metadata": {},
   "outputs": [],
   "source": [
    "B_k = np.zeros((4, 2))"
   ]
  },
  {
   "cell_type": "code",
   "execution_count": 11,
   "metadata": {},
   "outputs": [],
   "source": [
    "H_k = np.array([\n",
    "    [1, 0, 0, 0],\n",
    "    [0, 0, 1, 0]\n",
    "])"
   ]
  },
  {
   "cell_type": "code",
   "execution_count": 12,
   "metadata": {},
   "outputs": [],
   "source": [
    "# The noise in x is not in any way dependent on the noise in y, and the noise is normally \n",
    "# distributed about the mean 0. For now let's set the variance for x and y to be ...\n",
    "# They are independent, so there is no covariance, and our off diagonals will be 0 \n",
    "\n",
    "R_k = np.array([\n",
    "    [5. , 0 ],  \n",
    "    [0  , 5.]       \n",
    "])"
   ]
  },
  {
   "cell_type": "code",
   "execution_count": null,
   "metadata": {},
   "outputs": [],
   "source": [
    "def predict(X_prev, P_prev):\n",
    "\n",
    "    X_k = (Function @ X_prev) + (B_k @ U)\n",
    "    P_k = (Function @ P_prev @ Function.T) + (Q_k)\n",
    "\n",
    "    return X_k, P_k \n"
   ]
  },
  {
   "cell_type": "code",
   "execution_count": null,
   "metadata": {},
   "outputs": [],
   "source": [
    "def update(Z, X_prev, P_prev):\n",
    "    Y_k = Z - (H_k @ X_prev)\n",
    "    \n",
    "    S_k = (H_k @ P_prev @ H_k.T) + (R_k)\n",
    "    K_k = P_prev @ H_k.T @ np.linalg.pinv(S_k)\n",
    "    X_k = X_prev + (K_k @ Y_k)\n",
    "     \n",
    "    P_k = P_prev - (K_k @ H_k @ P_prev)\n",
    "     \n",
    "    return X_k, P_k\n",
    "\n"
   ]
  },
  {
   "cell_type": "code",
   "execution_count": null,
   "metadata": {},
   "outputs": [],
   "source": [
    "X_k = np.array([0.0, 0.0, 0.0, 0.0]).T\n",
    "P_k = np.eye(4) * 1\n",
    "Z_k = getZ()\n",
    "\n",
    "for k in Z_k:\n",
    "    X_k, P_k = predict(X_k, P_k)     \n",
    "    X_k, P_k = update(k, X_k, P_k)"
   ]
  },
  {
   "cell_type": "code",
   "execution_count": null,
   "metadata": {},
   "outputs": [],
   "source": []
  }
 ],
 "metadata": {
  "kernelspec": {
   "display_name": "Python 3",
   "language": "python",
   "name": "python3"
  },
  "language_info": {
   "codemirror_mode": {
    "name": "ipython",
    "version": 3
   },
   "file_extension": ".py",
   "mimetype": "text/x-python",
   "name": "python",
   "nbconvert_exporter": "python",
   "pygments_lexer": "ipython3",
   "version": "3.11.7"
  }
 },
 "nbformat": 4,
 "nbformat_minor": 2
}
